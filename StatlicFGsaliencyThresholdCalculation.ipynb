{
 "cells": [
  {
   "cell_type": "code",
   "execution_count": null,
   "id": "c7ad5dfe-dc01-4154-b71e-1b846c768cce",
   "metadata": {},
   "outputs": [],
   "source": [
    "import cv2\n",
    "import os\n",
    "import pandas as pd\n",
    "import matplotlib.pyplot as plt\n",
    "import numpy as np\n",
    "import matplotlib.image as mpimg"
   ]
  },
  {
   "cell_type": "code",
   "execution_count": null,
   "id": "7bff9578-c126-4960-92f7-2276de8a7209",
   "metadata": {},
   "outputs": [],
   "source": [
    "#SET WORKING DIRECTORY for each data ************\n",
    "os.chdir('paste directory name here')"
   ]
  },
  {
   "cell_type": "code",
   "execution_count": null,
   "id": "6c4d5086-d373-4587-b806-20f6ef503437",
   "metadata": {},
   "outputs": [],
   "source": [
    "cv2.saliency"
   ]
  },
  {
   "cell_type": "code",
   "execution_count": null,
   "id": "ccd496dd-608b-42a6-a4ca-6a4ae2504778",
   "metadata": {},
   "outputs": [],
   "source": [
    "#CHANGE FILENAMES according to image type analyzed\n",
    "imagetype = \"Building1.png\"\n",
    "fixdf_name = \"result10.20_building1.xlsx\"\n",
    "imtype = \"Building1\""
   ]
  },
  {
   "cell_type": "code",
   "execution_count": null,
   "id": "d488ca2a-7723-4c2d-9b0a-1109635ae09b",
   "metadata": {},
   "outputs": [],
   "source": [
    "#import all required files\n",
    "\n",
    "#Import fixation data\n",
    "fixdf = pd.read_excel(fixdf_name, sheet_name=\"fixation\")"
   ]
  },
  {
   "cell_type": "code",
   "execution_count": null,
   "id": "4a1c4c87-2165-463c-9cd1-4cf441b12d3c",
   "metadata": {
    "scrolled": true
   },
   "outputs": [],
   "source": [
    "#change name of the file import accordingly to read the picture without eye gaze trace\n",
    "if __name__ == \"__main__\" :\n",
    "    image = cv2.imread(os.path.join(\"paste directory here\", imagetype))\n",
    "    #use opencv static spectral residual saliency mapping\n",
    "    saliency = cv2.saliency.StaticSaliencyFineGrained_create()\n",
    "    (success, saliencyMap) = saliency.computeSaliency(image)\n",
    "    saliencyMap = (saliencyMap * 255).astype(\"uint8\")\n",
    "    \n",
    "#create a df of the saliency map\n",
    "    if success is True:\n",
    "        df = pd.DataFrame(saliencyMap)"
   ]
  },
  {
   "cell_type": "code",
   "execution_count": null,
   "id": "b404b7f7-35a6-448c-8f40-9588d3fbb66a",
   "metadata": {},
   "outputs": [],
   "source": [
    "print(fixdf)"
   ]
  },
  {
   "cell_type": "code",
   "execution_count": null,
   "id": "efb94473-e4be-47c4-a191-5eae3f79089e",
   "metadata": {},
   "outputs": [],
   "source": [
    "#extract x/z and y/z fixation coordinates from the fixdf dataframe\n",
    "fixations = fixdf[[\"x\",\"y\"]]"
   ]
  },
  {
   "cell_type": "code",
   "execution_count": null,
   "id": "6f30657b-8039-4650-aa7e-54b036066810",
   "metadata": {},
   "outputs": [],
   "source": [
    "print(fixations)"
   ]
  },
  {
   "cell_type": "code",
   "execution_count": null,
   "id": "275da1bd-bf6e-434a-9dd2-1dc09a02e811",
   "metadata": {},
   "outputs": [],
   "source": [
    "#define an equation to convert x/z and y/z to pixels compatible to threshMap (px_x and px_y)\n",
    "def xytoPixel(row):\n",
    "    if row['x'] < 0 and row['y'] >= 0:\n",
    "        px_x = 2048/2 - (900 * abs(row['x'])) \n",
    "        px_y = 1024/2 - (900 * abs(row['y']))\n",
    "    elif row['x'] < 0 and row['y'] < 0:\n",
    "        px_x = 2048/2 - (900 * abs(row['x'])) \n",
    "        px_y = 1024/2 + (900 * abs(row['y']))\n",
    "    elif row['x'] >= 0 and row['y'] >= 0:\n",
    "        px_x = 2048/2 + (900 * abs(row['x'])) \n",
    "        px_y = 1024/2 - (900 * abs(row['y']))\n",
    "    elif row['x'] >= 0 and row['y'] < 0:\n",
    "        px_x = 2048/2 + (900 * abs(row['x'])) \n",
    "        px_y = 1024/2 + (900 * abs(row['y']))\n",
    "    else :\n",
    "        px_x = 'error'\n",
    "        px_y = 'error'\n",
    "    return pd.Series({'px_x': px_x, 'px_y': px_y})"
   ]
  },
  {
   "cell_type": "code",
   "execution_count": null,
   "id": "77640479-a538-4de3-9816-f2adb8318fba",
   "metadata": {},
   "outputs": [],
   "source": [
    "#Create an independent copy of fixations df to separate it as a slice of bigger df\n",
    "fixations = fixations.copy()\n",
    "\n",
    "# Apply the xytoPixel function and assign results to new columns\n",
    "fixations[['px_x', 'px_y']] = fixations.apply(xytoPixel, axis=1)\n",
    "\n",
    "# Display the updated DataFrame\n",
    "print(fixations)"
   ]
  },
  {
   "cell_type": "code",
   "execution_count": null,
   "id": "0e0a0cd4-c3c4-46d5-b21c-74f1d7fbc676",
   "metadata": {},
   "outputs": [],
   "source": [
    "#Round up the pix_x and pix_y to obtain the closest pixel coordinates\n",
    "def roundUp(row):\n",
    "    pxru_x = np.round(row['px_x'])\n",
    "    pxru_y = np.round(row['px_y'])\n",
    "    return pd.Series({'pxru_x': pxru_x, 'pxru_y': pxru_y})\n",
    "\n",
    "fixations[['pxru_x', 'pxru_y']] = fixations.apply(roundUp, axis=1)\n",
    "fixations[['pxru_x']] = fixations[['pxru_x']].astype(int)\n",
    "fixations[['pxru_y']] = fixations[['pxru_y']].astype(int)\n",
    "\n",
    "#Work out the binary value for each pxru_x and pxru_y coordinates according to df (finegrained saliency map)\n",
    "fixations['saliency_value'] = df.to_numpy()[fixations['pxru_y'], fixations['pxru_x']]\n",
    "\n",
    "print(fixations)"
   ]
  },
  {
   "cell_type": "code",
   "execution_count": null,
   "id": "aff614c7-9010-43f6-970a-b89ec8e79df8",
   "metadata": {
    "scrolled": true
   },
   "outputs": [],
   "source": [
    "plot_width = 2048\n",
    "plot_height = 1024\n",
    "\n",
    "plt.figure(figsize=(10, 5))\n",
    "\n",
    "# Display the traceimage in the background. Use extent to align the image with plot axis of size 2048 x 1024\n",
    "plt.imshow(saliencyMap, extent=[0, plot_width, plot_height, 0])\n",
    "\n",
    "plt.scatter(fixations['px_x'], fixations['px_y'], color='red', label='Fixation Points')\n",
    "plt.xlim(0, plot_width)\n",
    "plt.ylim(plot_height, 0)\n",
    "plt.xlabel('X Coordinate (pixels)')\n",
    "plt.ylabel('Y Coordinate (pixels)')\n",
    "plt.grid(False)\n",
    "plt.legend()\n",
    "\n",
    "#save overlapped images as png. Check with FOVE0 output scanpath photo and double check to see if the fixations match scanpath\n",
    "plt.savefig(imtype + 'saliencyplot.png', dpi=800)\n",
    "plt.show()"
   ]
  },
  {
   "cell_type": "code",
   "execution_count": null,
   "id": "253eef07-594e-4886-9910-dd1bf217234b",
   "metadata": {},
   "outputs": [],
   "source": [
    "#save to excel file\n",
    "fixations.to_excel(imtype + '_saliencyvalue.xlsx') "
   ]
  }
 ],
 "metadata": {
  "kernelspec": {
   "display_name": "Python 3 (ipykernel)",
   "language": "python",
   "name": "python3"
  },
  "language_info": {
   "codemirror_mode": {
    "name": "ipython",
    "version": 3
   },
   "file_extension": ".py",
   "mimetype": "text/x-python",
   "name": "python",
   "nbconvert_exporter": "python",
   "pygments_lexer": "ipython3",
   "version": "3.12.7"
  }
 },
 "nbformat": 4,
 "nbformat_minor": 5
}
